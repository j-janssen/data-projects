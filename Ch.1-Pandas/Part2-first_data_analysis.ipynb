{
 "cells": [
  {
   "cell_type": "markdown",
   "id": "58a03f73",
   "metadata": {},
   "source": [
    "# Analysing Data with Pandas\n",
    "\n",
    "Pandas is a powerful tool for analysing data. There is no chance of covering all possibilities with pandas in a few notebooks. We will focus on basics. \n",
    "\n",
    "We will extract from a given data base that contains information of a commander deck information such as: Card Type -, Color Distribution and Mana Curve"
   ]
  },
  {
   "cell_type": "code",
   "execution_count": 1,
   "id": "da047612",
   "metadata": {},
   "outputs": [],
   "source": [
    "import json\n",
    "import pandas as pd\n",
    "import matplotlib.pyplot as plt"
   ]
  },
  {
   "cell_type": "code",
   "execution_count": 2,
   "id": "597e32e0",
   "metadata": {},
   "outputs": [],
   "source": [
    "# import of Data\n",
    "\n",
    "with open('../data/mtg_cards_data/AllDeckFiles/NecronDynasties_40K.json') as f:\n",
    "    data = json.load(f)\n",
    "data = data['data']['mainBoard']\n",
    "\n",
    "deck_cards = pd.json_normalize(data,max_level=1)"
   ]
  },
  {
   "cell_type": "code",
   "execution_count": 3,
   "id": "290786fe",
   "metadata": {},
   "outputs": [
    {
     "data": {
      "text/html": [
       "<div>\n",
       "<style scoped>\n",
       "    .dataframe tbody tr th:only-of-type {\n",
       "        vertical-align: middle;\n",
       "    }\n",
       "\n",
       "    .dataframe tbody tr th {\n",
       "        vertical-align: top;\n",
       "    }\n",
       "\n",
       "    .dataframe thead th {\n",
       "        text-align: right;\n",
       "    }\n",
       "</style>\n",
       "<table border=\"1\" class=\"dataframe\">\n",
       "  <thead>\n",
       "    <tr style=\"text-align: right;\">\n",
       "      <th></th>\n",
       "      <th>artist</th>\n",
       "      <th>availability</th>\n",
       "      <th>borderColor</th>\n",
       "      <th>colorIdentity</th>\n",
       "      <th>colors</th>\n",
       "      <th>convertedManaCost</th>\n",
       "      <th>count</th>\n",
       "      <th>edhrecRank</th>\n",
       "      <th>edhrecSaltiness</th>\n",
       "      <th>finishes</th>\n",
       "      <th>...</th>\n",
       "      <th>isAlternative</th>\n",
       "      <th>frameEffects</th>\n",
       "      <th>power</th>\n",
       "      <th>toughness</th>\n",
       "      <th>identifiers.cardKingdomFoilId</th>\n",
       "      <th>leadershipSkills.brawl</th>\n",
       "      <th>leadershipSkills.commander</th>\n",
       "      <th>leadershipSkills.oathbreaker</th>\n",
       "      <th>purchaseUrls.cardKingdomFoil</th>\n",
       "      <th>isStarter</th>\n",
       "    </tr>\n",
       "  </thead>\n",
       "  <tbody>\n",
       "    <tr>\n",
       "      <th>0</th>\n",
       "      <td>Rafater</td>\n",
       "      <td>[paper]</td>\n",
       "      <td>black</td>\n",
       "      <td>[B]</td>\n",
       "      <td>[B]</td>\n",
       "      <td>5.0</td>\n",
       "      <td>1</td>\n",
       "      <td>2171.0</td>\n",
       "      <td>0.20</td>\n",
       "      <td>[nonfoil]</td>\n",
       "      <td>...</td>\n",
       "      <td>NaN</td>\n",
       "      <td>NaN</td>\n",
       "      <td>NaN</td>\n",
       "      <td>NaN</td>\n",
       "      <td>NaN</td>\n",
       "      <td>NaN</td>\n",
       "      <td>NaN</td>\n",
       "      <td>NaN</td>\n",
       "      <td>NaN</td>\n",
       "      <td>NaN</td>\n",
       "    </tr>\n",
       "    <tr>\n",
       "      <th>1</th>\n",
       "      <td>L J Koh</td>\n",
       "      <td>[paper]</td>\n",
       "      <td>black</td>\n",
       "      <td>[B]</td>\n",
       "      <td>[B]</td>\n",
       "      <td>5.0</td>\n",
       "      <td>1</td>\n",
       "      <td>479.0</td>\n",
       "      <td>0.74</td>\n",
       "      <td>[nonfoil]</td>\n",
       "      <td>...</td>\n",
       "      <td>NaN</td>\n",
       "      <td>NaN</td>\n",
       "      <td>NaN</td>\n",
       "      <td>NaN</td>\n",
       "      <td>NaN</td>\n",
       "      <td>NaN</td>\n",
       "      <td>NaN</td>\n",
       "      <td>NaN</td>\n",
       "      <td>NaN</td>\n",
       "      <td>NaN</td>\n",
       "    </tr>\n",
       "    <tr>\n",
       "      <th>2</th>\n",
       "      <td>Games Workshop</td>\n",
       "      <td>[paper]</td>\n",
       "      <td>black</td>\n",
       "      <td>[B]</td>\n",
       "      <td>[B]</td>\n",
       "      <td>4.0</td>\n",
       "      <td>1</td>\n",
       "      <td>1412.0</td>\n",
       "      <td>0.32</td>\n",
       "      <td>[nonfoil]</td>\n",
       "      <td>...</td>\n",
       "      <td>NaN</td>\n",
       "      <td>NaN</td>\n",
       "      <td>NaN</td>\n",
       "      <td>NaN</td>\n",
       "      <td>NaN</td>\n",
       "      <td>NaN</td>\n",
       "      <td>NaN</td>\n",
       "      <td>NaN</td>\n",
       "      <td>NaN</td>\n",
       "      <td>NaN</td>\n",
       "    </tr>\n",
       "    <tr>\n",
       "      <th>3</th>\n",
       "      <td>L J Koh</td>\n",
       "      <td>[paper]</td>\n",
       "      <td>black</td>\n",
       "      <td>[B]</td>\n",
       "      <td>[B]</td>\n",
       "      <td>4.0</td>\n",
       "      <td>1</td>\n",
       "      <td>606.0</td>\n",
       "      <td>0.23</td>\n",
       "      <td>[nonfoil]</td>\n",
       "      <td>...</td>\n",
       "      <td>NaN</td>\n",
       "      <td>NaN</td>\n",
       "      <td>NaN</td>\n",
       "      <td>NaN</td>\n",
       "      <td>NaN</td>\n",
       "      <td>NaN</td>\n",
       "      <td>NaN</td>\n",
       "      <td>NaN</td>\n",
       "      <td>NaN</td>\n",
       "      <td>NaN</td>\n",
       "    </tr>\n",
       "    <tr>\n",
       "      <th>4</th>\n",
       "      <td>Stanton Feng</td>\n",
       "      <td>[paper]</td>\n",
       "      <td>black</td>\n",
       "      <td>[B]</td>\n",
       "      <td>[B]</td>\n",
       "      <td>1.0</td>\n",
       "      <td>1</td>\n",
       "      <td>918.0</td>\n",
       "      <td>0.13</td>\n",
       "      <td>[nonfoil]</td>\n",
       "      <td>...</td>\n",
       "      <td>NaN</td>\n",
       "      <td>NaN</td>\n",
       "      <td>NaN</td>\n",
       "      <td>NaN</td>\n",
       "      <td>NaN</td>\n",
       "      <td>NaN</td>\n",
       "      <td>NaN</td>\n",
       "      <td>NaN</td>\n",
       "      <td>NaN</td>\n",
       "      <td>NaN</td>\n",
       "    </tr>\n",
       "  </tbody>\n",
       "</table>\n",
       "<p>5 rows × 79 columns</p>\n",
       "</div>"
      ],
      "text/plain": [
       "           artist availability borderColor colorIdentity colors  \\\n",
       "0         Rafater      [paper]       black           [B]    [B]   \n",
       "1         L J Koh      [paper]       black           [B]    [B]   \n",
       "2  Games Workshop      [paper]       black           [B]    [B]   \n",
       "3         L J Koh      [paper]       black           [B]    [B]   \n",
       "4    Stanton Feng      [paper]       black           [B]    [B]   \n",
       "\n",
       "   convertedManaCost  count  edhrecRank  edhrecSaltiness   finishes  ...  \\\n",
       "0                5.0      1      2171.0             0.20  [nonfoil]  ...   \n",
       "1                5.0      1       479.0             0.74  [nonfoil]  ...   \n",
       "2                4.0      1      1412.0             0.32  [nonfoil]  ...   \n",
       "3                4.0      1       606.0             0.23  [nonfoil]  ...   \n",
       "4                1.0      1       918.0             0.13  [nonfoil]  ...   \n",
       "\n",
       "  isAlternative frameEffects power  toughness  identifiers.cardKingdomFoilId  \\\n",
       "0           NaN          NaN   NaN        NaN                            NaN   \n",
       "1           NaN          NaN   NaN        NaN                            NaN   \n",
       "2           NaN          NaN   NaN        NaN                            NaN   \n",
       "3           NaN          NaN   NaN        NaN                            NaN   \n",
       "4           NaN          NaN   NaN        NaN                            NaN   \n",
       "\n",
       "   leadershipSkills.brawl leadershipSkills.commander  \\\n",
       "0                     NaN                        NaN   \n",
       "1                     NaN                        NaN   \n",
       "2                     NaN                        NaN   \n",
       "3                     NaN                        NaN   \n",
       "4                     NaN                        NaN   \n",
       "\n",
       "  leadershipSkills.oathbreaker purchaseUrls.cardKingdomFoil isStarter  \n",
       "0                          NaN                          NaN       NaN  \n",
       "1                          NaN                          NaN       NaN  \n",
       "2                          NaN                          NaN       NaN  \n",
       "3                          NaN                          NaN       NaN  \n",
       "4                          NaN                          NaN       NaN  \n",
       "\n",
       "[5 rows x 79 columns]"
      ]
     },
     "execution_count": 3,
     "metadata": {},
     "output_type": "execute_result"
    }
   ],
   "source": [
    "deck_cards.head(5)"
   ]
  },
  {
   "cell_type": "code",
   "execution_count": 4,
   "id": "bded1878",
   "metadata": {},
   "outputs": [
    {
     "data": {
      "text/html": [
       "<div>\n",
       "<style scoped>\n",
       "    .dataframe tbody tr th:only-of-type {\n",
       "        vertical-align: middle;\n",
       "    }\n",
       "\n",
       "    .dataframe tbody tr th {\n",
       "        vertical-align: top;\n",
       "    }\n",
       "\n",
       "    .dataframe thead th {\n",
       "        text-align: right;\n",
       "    }\n",
       "</style>\n",
       "<table border=\"1\" class=\"dataframe\">\n",
       "  <thead>\n",
       "    <tr style=\"text-align: right;\">\n",
       "      <th></th>\n",
       "      <th>name</th>\n",
       "      <th>colorIdentity</th>\n",
       "      <th>colors</th>\n",
       "      <th>types</th>\n",
       "      <th>convertedManaCost</th>\n",
       "      <th>count</th>\n",
       "    </tr>\n",
       "  </thead>\n",
       "  <tbody>\n",
       "    <tr>\n",
       "      <th>0</th>\n",
       "      <td>Beacon of Unrest</td>\n",
       "      <td>[B]</td>\n",
       "      <td>[B]</td>\n",
       "      <td>[Sorcery]</td>\n",
       "      <td>5.0</td>\n",
       "      <td>1</td>\n",
       "    </tr>\n",
       "    <tr>\n",
       "      <th>1</th>\n",
       "      <td>Living Death</td>\n",
       "      <td>[B]</td>\n",
       "      <td>[B]</td>\n",
       "      <td>[Sorcery]</td>\n",
       "      <td>5.0</td>\n",
       "      <td>1</td>\n",
       "    </tr>\n",
       "    <tr>\n",
       "      <th>2</th>\n",
       "      <td>Mutilate</td>\n",
       "      <td>[B]</td>\n",
       "      <td>[B]</td>\n",
       "      <td>[Sorcery]</td>\n",
       "      <td>4.0</td>\n",
       "      <td>1</td>\n",
       "    </tr>\n",
       "    <tr>\n",
       "      <th>3</th>\n",
       "      <td>Dread Return</td>\n",
       "      <td>[B]</td>\n",
       "      <td>[B]</td>\n",
       "      <td>[Sorcery]</td>\n",
       "      <td>4.0</td>\n",
       "      <td>1</td>\n",
       "    </tr>\n",
       "    <tr>\n",
       "      <th>4</th>\n",
       "      <td>Defile</td>\n",
       "      <td>[B]</td>\n",
       "      <td>[B]</td>\n",
       "      <td>[Instant]</td>\n",
       "      <td>1.0</td>\n",
       "      <td>1</td>\n",
       "    </tr>\n",
       "  </tbody>\n",
       "</table>\n",
       "</div>"
      ],
      "text/plain": [
       "               name colorIdentity colors      types  convertedManaCost  count\n",
       "0  Beacon of Unrest           [B]    [B]  [Sorcery]                5.0      1\n",
       "1      Living Death           [B]    [B]  [Sorcery]                5.0      1\n",
       "2          Mutilate           [B]    [B]  [Sorcery]                4.0      1\n",
       "3      Dread Return           [B]    [B]  [Sorcery]                4.0      1\n",
       "4            Defile           [B]    [B]  [Instant]                1.0      1"
      ]
     },
     "execution_count": 4,
     "metadata": {},
     "output_type": "execute_result"
    }
   ],
   "source": [
    "deck_cards[['name','colorIdentity','colors','types','convertedManaCost','count']].head(5)"
   ]
  },
  {
   "cell_type": "code",
   "execution_count": 5,
   "id": "86187020",
   "metadata": {},
   "outputs": [
    {
     "data": {
      "text/html": [
       "<div>\n",
       "<style scoped>\n",
       "    .dataframe tbody tr th:only-of-type {\n",
       "        vertical-align: middle;\n",
       "    }\n",
       "\n",
       "    .dataframe tbody tr th {\n",
       "        vertical-align: top;\n",
       "    }\n",
       "\n",
       "    .dataframe thead th {\n",
       "        text-align: right;\n",
       "    }\n",
       "</style>\n",
       "<table border=\"1\" class=\"dataframe\">\n",
       "  <thead>\n",
       "    <tr style=\"text-align: right;\">\n",
       "      <th></th>\n",
       "      <th>types</th>\n",
       "      <th>count</th>\n",
       "    </tr>\n",
       "  </thead>\n",
       "  <tbody>\n",
       "    <tr>\n",
       "      <th>0</th>\n",
       "      <td>Artifact</td>\n",
       "      <td>49</td>\n",
       "    </tr>\n",
       "    <tr>\n",
       "      <th>1</th>\n",
       "      <td>Creature</td>\n",
       "      <td>29</td>\n",
       "    </tr>\n",
       "    <tr>\n",
       "      <th>2</th>\n",
       "      <td>Enchantment</td>\n",
       "      <td>3</td>\n",
       "    </tr>\n",
       "    <tr>\n",
       "      <th>3</th>\n",
       "      <td>Instant</td>\n",
       "      <td>3</td>\n",
       "    </tr>\n",
       "    <tr>\n",
       "      <th>4</th>\n",
       "      <td>Land</td>\n",
       "      <td>37</td>\n",
       "    </tr>\n",
       "    <tr>\n",
       "      <th>5</th>\n",
       "      <td>Sorcery</td>\n",
       "      <td>6</td>\n",
       "    </tr>\n",
       "  </tbody>\n",
       "</table>\n",
       "</div>"
      ],
      "text/plain": [
       "         types  count\n",
       "0     Artifact     49\n",
       "1     Creature     29\n",
       "2  Enchantment      3\n",
       "3      Instant      3\n",
       "4         Land     37\n",
       "5      Sorcery      6"
      ]
     },
     "execution_count": 5,
     "metadata": {},
     "output_type": "execute_result"
    }
   ],
   "source": [
    "db = deck_cards[['types','count']].explode('types').groupby('types',as_index=False).sum()\n",
    "db"
   ]
  },
  {
   "cell_type": "code",
   "execution_count": 6,
   "id": "0fb696bf",
   "metadata": {
    "scrolled": true
   },
   "outputs": [
    {
     "data": {
      "text/html": [
       "<div>\n",
       "<style scoped>\n",
       "    .dataframe tbody tr th:only-of-type {\n",
       "        vertical-align: middle;\n",
       "    }\n",
       "\n",
       "    .dataframe tbody tr th {\n",
       "        vertical-align: top;\n",
       "    }\n",
       "\n",
       "    .dataframe thead th {\n",
       "        text-align: right;\n",
       "    }\n",
       "</style>\n",
       "<table border=\"1\" class=\"dataframe\">\n",
       "  <thead>\n",
       "    <tr style=\"text-align: right;\">\n",
       "      <th></th>\n",
       "      <th>colorIdentity</th>\n",
       "      <th>count</th>\n",
       "    </tr>\n",
       "  </thead>\n",
       "  <tbody>\n",
       "    <tr>\n",
       "      <th>0</th>\n",
       "      <td>B</td>\n",
       "      <td>37</td>\n",
       "    </tr>\n",
       "    <tr>\n",
       "      <th>1</th>\n",
       "      <td>N</td>\n",
       "      <td>25</td>\n",
       "    </tr>\n",
       "  </tbody>\n",
       "</table>\n",
       "</div>"
      ],
      "text/plain": [
       "  colorIdentity  count\n",
       "0             B     37\n",
       "1             N     25"
      ]
     },
     "execution_count": 6,
     "metadata": {},
     "output_type": "execute_result"
    }
   ],
   "source": [
    "db1 = deck_cards[ deck_cards.apply(lambda x: False if ' '.join(x.types).count('Land') else True,axis=1) ]  # exclude Land cards\n",
    "db1 = db1[['colorIdentity','count']].explode('colorIdentity').fillna('N').groupby('colorIdentity', as_index=False).sum()\n",
    "db1"
   ]
  },
  {
   "cell_type": "code",
   "execution_count": 7,
   "id": "5a26d164",
   "metadata": {},
   "outputs": [
    {
     "data": {
      "text/html": [
       "<div>\n",
       "<style scoped>\n",
       "    .dataframe tbody tr th:only-of-type {\n",
       "        vertical-align: middle;\n",
       "    }\n",
       "\n",
       "    .dataframe tbody tr th {\n",
       "        vertical-align: top;\n",
       "    }\n",
       "\n",
       "    .dataframe thead th {\n",
       "        text-align: right;\n",
       "    }\n",
       "</style>\n",
       "<table border=\"1\" class=\"dataframe\">\n",
       "  <thead>\n",
       "    <tr style=\"text-align: right;\">\n",
       "      <th></th>\n",
       "      <th>manaValue</th>\n",
       "      <th>colorIdentity</th>\n",
       "      <th>count</th>\n",
       "    </tr>\n",
       "  </thead>\n",
       "  <tbody>\n",
       "    <tr>\n",
       "      <th>0</th>\n",
       "      <td>1.0</td>\n",
       "      <td>B</td>\n",
       "      <td>2</td>\n",
       "    </tr>\n",
       "    <tr>\n",
       "      <th>1</th>\n",
       "      <td>1.0</td>\n",
       "      <td>N</td>\n",
       "      <td>2</td>\n",
       "    </tr>\n",
       "    <tr>\n",
       "      <th>2</th>\n",
       "      <td>2.0</td>\n",
       "      <td>B</td>\n",
       "      <td>5</td>\n",
       "    </tr>\n",
       "    <tr>\n",
       "      <th>3</th>\n",
       "      <td>2.0</td>\n",
       "      <td>N</td>\n",
       "      <td>6</td>\n",
       "    </tr>\n",
       "    <tr>\n",
       "      <th>4</th>\n",
       "      <td>3.0</td>\n",
       "      <td>B</td>\n",
       "      <td>6</td>\n",
       "    </tr>\n",
       "    <tr>\n",
       "      <th>5</th>\n",
       "      <td>3.0</td>\n",
       "      <td>N</td>\n",
       "      <td>6</td>\n",
       "    </tr>\n",
       "    <tr>\n",
       "      <th>6</th>\n",
       "      <td>4.0</td>\n",
       "      <td>B</td>\n",
       "      <td>10</td>\n",
       "    </tr>\n",
       "    <tr>\n",
       "      <th>7</th>\n",
       "      <td>4.0</td>\n",
       "      <td>N</td>\n",
       "      <td>7</td>\n",
       "    </tr>\n",
       "    <tr>\n",
       "      <th>8</th>\n",
       "      <td>5.0</td>\n",
       "      <td>B</td>\n",
       "      <td>6</td>\n",
       "    </tr>\n",
       "    <tr>\n",
       "      <th>9</th>\n",
       "      <td>5.0</td>\n",
       "      <td>N</td>\n",
       "      <td>2</td>\n",
       "    </tr>\n",
       "    <tr>\n",
       "      <th>10</th>\n",
       "      <td>6.0</td>\n",
       "      <td>B</td>\n",
       "      <td>5</td>\n",
       "    </tr>\n",
       "    <tr>\n",
       "      <th>11</th>\n",
       "      <td>6.0</td>\n",
       "      <td>N</td>\n",
       "      <td>1</td>\n",
       "    </tr>\n",
       "    <tr>\n",
       "      <th>12</th>\n",
       "      <td>7.0</td>\n",
       "      <td>B</td>\n",
       "      <td>2</td>\n",
       "    </tr>\n",
       "    <tr>\n",
       "      <th>13</th>\n",
       "      <td>7.0</td>\n",
       "      <td>N</td>\n",
       "      <td>1</td>\n",
       "    </tr>\n",
       "    <tr>\n",
       "      <th>14</th>\n",
       "      <td>8.0</td>\n",
       "      <td>B</td>\n",
       "      <td>1</td>\n",
       "    </tr>\n",
       "  </tbody>\n",
       "</table>\n",
       "</div>"
      ],
      "text/plain": [
       "    manaValue colorIdentity  count\n",
       "0         1.0             B      2\n",
       "1         1.0             N      2\n",
       "2         2.0             B      5\n",
       "3         2.0             N      6\n",
       "4         3.0             B      6\n",
       "5         3.0             N      6\n",
       "6         4.0             B     10\n",
       "7         4.0             N      7\n",
       "8         5.0             B      6\n",
       "9         5.0             N      2\n",
       "10        6.0             B      5\n",
       "11        6.0             N      1\n",
       "12        7.0             B      2\n",
       "13        7.0             N      1\n",
       "14        8.0             B      1"
      ]
     },
     "execution_count": 7,
     "metadata": {},
     "output_type": "execute_result"
    }
   ],
   "source": [
    "db2 = deck_cards[ deck_cards.apply(lambda x: False if ' '.join(x.types).count('Land') else True,axis=1) ]  # exclude Land cards\n",
    "db2 = db2[['manaValue','colorIdentity','count']]\n",
    "db2 = db2.explode('colorIdentity').fillna('N').groupby(['manaValue','colorIdentity'], as_index = False).sum()\n",
    "db2"
   ]
  },
  {
   "cell_type": "markdown",
   "id": "de437a78",
   "metadata": {},
   "source": [
    "## Visualization via Pandas"
   ]
  },
  {
   "cell_type": "code",
   "execution_count": 8,
   "id": "09e71a51",
   "metadata": {},
   "outputs": [
    {
     "data": {
      "text/plain": [
       "Text(0.5, 1.0, 'Card Type Distribution')"
      ]
     },
     "execution_count": 8,
     "metadata": {},
     "output_type": "execute_result"
    },
    {
     "data": {
      "image/png": "[encoded data removed]",
      "text/plain": [
       "<Figure size 432x288 with 1 Axes>"
      ]
     },
     "metadata": {
      "needs_background": "light"
     },
     "output_type": "display_data"
    }
   ],
   "source": [
    "ax = db.plot.bar(x = 'types', rot=0)\n",
    "ax.set_title('Card Type Distribution')"
   ]
  },
  {
   "cell_type": "code",
   "execution_count": 9,
   "id": "66422875",
   "metadata": {},
   "outputs": [
    {
     "data": {
      "text/plain": [
       "Text(0.5, 1.0, 'Mana Curve')"
      ]
     },
     "execution_count": 9,
     "metadata": {},
     "output_type": "execute_result"
    },
    {
     "data": {
      "image/png": "[encoded data removed]",
      "text/plain": [
       "<Figure size 432x288 with 1 Axes>"
      ]
     },
     "metadata": {
      "needs_background": "light"
     },
     "output_type": "display_data"
    }
   ],
   "source": [
    "ax = db2.set_index('manaValue').pivot(columns = 'colorIdentity',values = 'count').plot.bar(stacked=True)\n",
    "ax.set_title('Mana Curve')"
   ]
  },
  {
   "cell_type": "code",
   "execution_count": 10,
   "id": "7b5aa32b",
   "metadata": {},
   "outputs": [
    {
     "data": {
      "text/plain": [
       "Text(0.5, 1.0, 'Color Distribution')"
      ]
     },
     "execution_count": 10,
     "metadata": {},
     "output_type": "execute_result"
    },
    {
     "data": {
      "image/png": "[encoded data removed]",
      "text/plain": [
       "<Figure size 432x288 with 1 Axes>"
      ]
     },
     "metadata": {},
     "output_type": "display_data"
    }
   ],
   "source": [
    "plot = db1.set_index('colorIdentity').plot.pie(y='count')\n",
    "plot.set_title('Color Distribution')"
   ]
  },
  {
   "cell_type": "code",
   "execution_count": 11,
   "id": "08ab8c6d",
   "metadata": {},
   "outputs": [
    {
     "data": {
      "text/plain": [
       "Text(0.5, 1.0, 'Type Distribution')"
      ]
     },
     "execution_count": 11,
     "metadata": {},
     "output_type": "execute_result"
    },
    {
     "data": {
      "image/png": "[encoded data removed]",
      "text/plain": [
       "<Figure size 432x288 with 1 Axes>"
      ]
     },
     "metadata": {},
     "output_type": "display_data"
    }
   ],
   "source": [
    "plot = db.set_index('types').plot.pie(y='count')\n",
    "plot.set_title('Type Distribution')"
   ]
  },
  {
   "cell_type": "code",
   "execution_count": null,
   "id": "1499b420",
   "metadata": {},
   "outputs": [],
   "source": []
  },
  {
   "cell_type": "code",
   "execution_count": null,
   "id": "0bad8cf7",
   "metadata": {},
   "outputs": [],
   "source": []
  }
 ],
 "metadata": {
  "kernelspec": {
   "display_name": "Python 3",
   "language": "python",
   "name": "python3"
  },
  "language_info": {
   "codemirror_mode": {
    "name": "ipython",
    "version": 3
   },
   "file_extension": ".py",
   "mimetype": "text/x-python",
   "name": "python",
   "nbconvert_exporter": "python",
   "pygments_lexer": "ipython3",
   "version": "3.8.3"
  }
 },
 "nbformat": 4,
 "nbformat_minor": 5
}
