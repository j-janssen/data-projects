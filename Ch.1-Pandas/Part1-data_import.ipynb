{
 "cells": [
  {
   "cell_type": "markdown",
   "id": "809ccdaa",
   "metadata": {},
   "source": [
    "# How to import Data with Pandas\n",
    "\n",
    "In this notebook we discuss how to load large data sets. In particular, we will consider .csv and .json files. We give three examples that will come up in following notebooks."
   ]
  },
  {
   "cell_type": "markdown",
   "id": "f7c03a3f",
   "metadata": {},
   "source": [
    "## Before we start ...\n",
    "\n",
    "... we have to decide on which data we want to work on. Of course, there are plenty of data bases online available. In the following, we will use data basis about a collectible card game, called Magic The Gathering. \n",
    "\n",
    "There are multiple reasons for this. First of all, it is a complex game and, as such, there is a lot to learn and analyse. What makes it so complex? It has over 20.000 different printed cards with unique names and in-game rules text. And it is Turing complete. (So one can simulate an abstract machine that is capable of implementing any computer algorithm.) The second reason is that I love playing this game. Ever since I was little I was faszinated by the variety and complexity of strategies one can come up with in this game. \n",
    "\n",
    "Indeed, there are multiple sources of data basis about Magic The Gathering (MTG). One data project that stands out is the open-source project MTGJSON, due to daily updates and direct downloads (see [here](https://mtgjson.com/)). \n",
    "\n",
    "The idea of my data project is inspired by an article of Gabriel Pierobon (see [here](https://towardsdatascience.com/artificial-intelligence-in-magic-the-gathering-4367e88aee11)). (At some point I will use his pre-processed data.)"
   ]
  },
  {
   "cell_type": "markdown",
   "id": "3977e7d7",
   "metadata": {},
   "source": [
    "## Importing Data with Pandas\n",
    "\n",
    "The files we work with are .csv or .json files. Since these files in general contain lots of data, we have to be careful how we load them. There are multiple options. One is to divide the data into chunks and work with these. And another is to specify data types for individual columns. We follow the second strategy, since we want to train our models on all cards at once."
   ]
  },
  {
   "cell_type": "code",
   "execution_count": 1,
   "id": "95399571",
   "metadata": {},
   "outputs": [],
   "source": [
    "import json\n",
    "import pandas as pd"
   ]
  },
  {
   "cell_type": "code",
   "execution_count": 2,
   "id": "f58f6bff",
   "metadata": {},
   "outputs": [],
   "source": [
    "# .csv file\n",
    "\n",
    "#db = pd.read_csv('../data/mtg_cards_data/datasets_vow_20211220_FULL.csv') - DtypeWarning\n",
    "\n",
    "columns = pd.read_csv('../data/mtg_cards_data/datasets_vow_20211220_FULL.csv',nrows=0).columns\n",
    "columns_with_obj_dtype = ['name','oracle_text','set','edhrec_rank','cmc_grp','usd','eur','tix',\n",
    "               'normal_image','normal_image_1','normal_image_2','multiclass_colrs','multiclass_rarty',\n",
    "               'multiclass_binusd','multiclass_bineur','multiclass_bintix']\n",
    "dtype = {col: ('int8' if col not in columns_with_obj_dtype else 'object') for col in columns}\n",
    "\n",
    "db = pd.read_csv('../data/mtg_cards_data/datasets_vow_20211220_FULL.csv',dtype=dtype)"
   ]
  },
  {
   "cell_type": "code",
   "execution_count": 3,
   "id": "18ffe2e6",
   "metadata": {},
   "outputs": [],
   "source": [
    "# .csv file\n",
    "\n",
    "#db = pd.read_csv('../data/mtg_cards_data/AllPrintingsCSVFiles/cards.csv') - DtypeWarning\n",
    "\n",
    "# selected columns of interest for our data project\n",
    "columns = ['id','name','text','manaCost','manaValue','colorIdentity','colors','convertedManaCost','type','types','loyalty','power','toughness','keywords',\n",
    "    'edhrecRank','life','defense','scryfallId','scryfallIllustrationId','scryfallOracleId','relatedCards']\n",
    "\n",
    "dtype = {'id': 'int64','name': str,'text': str,'manaCost': str,'manaValue': float,'colorIdentity': str,'colors': str,\n",
    "        'convertedManaCost': float,'type': str,'types': str,'loyalty': 'object','power': 'object','toughness': 'object',\n",
    "        'keywords': str,'edhrecRank': 'object','life': 'object','defense': 'object','scryfallId': str,'scryfallIllustrationId': str,\n",
    "        'scryfallOracleId': str,'relatedCards': str }\n",
    "\n",
    "db = pd.read_csv('../data/mtg_cards_data/AllPrintingsCSVFiles/cards.csv',usecols = columns, dtype = dtype)"
   ]
  },
  {
   "cell_type": "code",
   "execution_count": 4,
   "id": "d989e8ce",
   "metadata": {},
   "outputs": [],
   "source": [
    "# .json file\n",
    "\n",
    "# selected key of interest for our data project\n",
    "with open('../data/mtg_cards_data/AllDeckFiles/NecronDynasties_40K.json') as f:\n",
    "    data = json.load(f)\n",
    "data = data['data']['mainBoard']\n",
    "\n",
    "db = pd.json_normalize(data,max_level=1)"
   ]
  },
  {
   "cell_type": "code",
   "execution_count": null,
   "id": "cf316594",
   "metadata": {},
   "outputs": [],
   "source": []
  }
 ],
 "metadata": {
  "kernelspec": {
   "display_name": "Python 3",
   "language": "python",
   "name": "python3"
  },
  "language_info": {
   "codemirror_mode": {
    "name": "ipython",
    "version": 3
   },
   "file_extension": ".py",
   "mimetype": "text/x-python",
   "name": "python",
   "nbconvert_exporter": "python",
   "pygments_lexer": "ipython3",
   "version": "3.8.3"
  }
 },
 "nbformat": 4,
 "nbformat_minor": 5
}
