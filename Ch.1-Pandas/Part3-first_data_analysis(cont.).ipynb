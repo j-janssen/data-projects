{
 "cells": [
  {
   "cell_type": "markdown",
   "id": "2fb7b269",
   "metadata": {},
   "source": [
    "# Analysing Data with Pandas (cont.)\n",
    "\n",
    "In this notebook we extract information as we did in the previous part, but now we consider all files and take the mean."
   ]
  },
  {
   "cell_type": "code",
   "execution_count": 1,
   "id": "13b1b0ce",
   "metadata": {},
   "outputs": [],
   "source": [
    "import os\n",
    "import json\n",
    "import pandas as pd"
   ]
  },
  {
   "cell_type": "code",
   "execution_count": 2,
   "id": "d8c42655",
   "metadata": {},
   "outputs": [],
   "source": [
    "def deck_stats(path):\n",
    "    with open(path) as f:\n",
    "        data =json.load(f)\n",
    "    data = data['data']['mainBoard']\n",
    "    \n",
    "    deck_cards = pd.json_normalize(data,max_level=1)\n",
    "    \n",
    "    db = deck_cards[['types','count']].explode('types').groupby('types',as_index=False).sum()\n",
    "    \n",
    "    db1 = deck_cards[ deck_cards.apply(lambda x: False if ' '.join(x.types).count('Land') else True,axis=1) ]  # exclude Land cards\n",
    "    db1 = db1[['colorIdentity','count']].explode('colorIdentity').fillna('N').groupby('colorIdentity', as_index=False).sum()\n",
    "\n",
    "    db2 = deck_cards[ deck_cards.apply(lambda x: False if ' '.join(x.types).count('Land') else True,axis=1) ]  # exclude Land cards\n",
    "    db2 = db2[['manaValue','colorIdentity','count']]\n",
    "    db2 = db2.explode('colorIdentity').fillna('N').groupby(['manaValue','colorIdentity'], as_index = False).sum()\n",
    "    f.close()\n",
    "    return(db,db1,db2)\n",
    "\n",
    "def is_cmd_deck(path):\n",
    "    with open(path) as f:\n",
    "        data =json.load(f)\n",
    "    data = data['data']['commander']\n",
    "    f.close()\n",
    "    return bool(data)"
   ]
  },
  {
   "cell_type": "code",
   "execution_count": 3,
   "id": "af2536a6",
   "metadata": {},
   "outputs": [],
   "source": [
    "#initalize db\n",
    "\n",
    "db,db1,db2 = deck_stats('../data/mtg_cards_data/AllDeckFiles/NecronDynasties_40K.json')\n",
    "db = db.drop(columns ='count')\n",
    "db1 = db1.drop(columns ='count')\n",
    "db2 = db2.drop(columns ='count')"
   ]
  },
  {
   "cell_type": "code",
   "execution_count": 4,
   "id": "882908ae",
   "metadata": {},
   "outputs": [],
   "source": [
    "directory = '../data/mtg_cards_data/AllDeckFiles'\n",
    "\n",
    "for filename in os.listdir(directory):\n",
    "    f = os.path.join(directory, filename)\n",
    "    if os.path.isfile(f):\n",
    "        if is_cmd_deck(f):\n",
    "            d,d1,d2 = deck_stats(f)\n",
    "            db = db.merge(d,how='outer', on= 'types',suffixes=('',filename.split('.')[0])).fillna(0)\n",
    "            db1 = db1.merge(d1,how='outer',on= 'colorIdentity',suffixes=('',filename.split('.')[0])).fillna(0)\n",
    "            db2 = db2.merge(d2,how='outer',on= ['manaValue','colorIdentity'],suffixes=('',filename.split('.')[0])).fillna(0)"
   ]
  },
  {
   "cell_type": "code",
   "execution_count": 5,
   "id": "90d537d9",
   "metadata": {},
   "outputs": [
    {
     "data": {
      "text/plain": [
       "types\n",
       "Artifact        13.243243\n",
       "Creature        27.522523\n",
       "Enchantment      5.918919\n",
       "Instant          7.081081\n",
       "Land            38.000000\n",
       "Sorcery          8.747748\n",
       "Tribal           0.108108\n",
       "Planeswalker     0.315315\n",
       "dtype: float64"
      ]
     },
     "execution_count": 5,
     "metadata": {},
     "output_type": "execute_result"
    }
   ],
   "source": [
    "db.set_index('types').mean(axis=1)"
   ]
  },
  {
   "cell_type": "code",
   "execution_count": 6,
   "id": "5335cdb3",
   "metadata": {},
   "outputs": [
    {
     "data": {
      "text/plain": [
       "colorIdentity\n",
       "B    13.207207\n",
       "N     9.369369\n",
       "G    14.027027\n",
       "R    11.279279\n",
       "U    12.108108\n",
       "W    12.990991\n",
       "dtype: float64"
      ]
     },
     "execution_count": 6,
     "metadata": {},
     "output_type": "execute_result"
    }
   ],
   "source": [
    "db1.set_index('colorIdentity').mean(axis=1)"
   ]
  },
  {
   "cell_type": "code",
   "execution_count": 7,
   "id": "9e74506d",
   "metadata": {},
   "outputs": [
    {
     "data": {
      "text/plain": [
       "manaValue\n",
       "0.0      0.126126\n",
       "1.0      3.738739\n",
       "2.0     14.648649\n",
       "3.0     18.441441\n",
       "4.0     13.054054\n",
       "5.0     10.387387\n",
       "6.0      7.018018\n",
       "7.0      3.738739\n",
       "8.0      1.207207\n",
       "9.0      0.342342\n",
       "10.0     0.198198\n",
       "11.0     0.063063\n",
       "12.0     0.018018\n",
       "dtype: float64"
      ]
     },
     "execution_count": 7,
     "metadata": {},
     "output_type": "execute_result"
    }
   ],
   "source": [
    "db2.drop(columns='colorIdentity').sort_values('manaValue').groupby('manaValue').sum().mean(axis=1)"
   ]
  },
  {
   "cell_type": "code",
   "execution_count": null,
   "id": "b858bd58",
   "metadata": {},
   "outputs": [],
   "source": []
  }
 ],
 "metadata": {
  "kernelspec": {
   "display_name": "Python 3",
   "language": "python",
   "name": "python3"
  },
  "language_info": {
   "codemirror_mode": {
    "name": "ipython",
    "version": 3
   },
   "file_extension": ".py",
   "mimetype": "text/x-python",
   "name": "python",
   "nbconvert_exporter": "python",
   "pygments_lexer": "ipython3",
   "version": "3.8.3"
  }
 },
 "nbformat": 4,
 "nbformat_minor": 5
}
